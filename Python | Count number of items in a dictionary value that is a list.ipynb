{
 "cells": [
  {
   "cell_type": "markdown",
   "metadata": {},
   "source": [
    "# Python | Count number of items in a dictionary value that is a list"
   ]
  },
  {
   "cell_type": "code",
   "execution_count": 1,
   "metadata": {},
   "outputs": [],
   "source": [
    "d = {'A' : [1, 2, 3, 4, 5, 6, 7, 8, 9],\n",
    "        'B' : 34,\n",
    "        'C' : 12,\n",
    "        'D' : [7, 8, 9, 6, 4] }"
   ]
  },
  {
   "cell_type": "code",
   "execution_count": 8,
   "metadata": {},
   "outputs": [
    {
     "data": {
      "text/plain": [
       "14"
      ]
     },
     "execution_count": 8,
     "metadata": {},
     "output_type": "execute_result"
    }
   ],
   "source": [
    "#Using isinstance \n",
    "count = 0\n",
    "for key,value in d.items():\n",
    "    if isinstance(value,(list)):\n",
    "        count += len(value)\n",
    "count"
   ]
  },
  {
   "cell_type": "code",
   "execution_count": 26,
   "metadata": {},
   "outputs": [
    {
     "data": {
      "text/plain": [
       "[14]"
      ]
     },
     "execution_count": 26,
     "metadata": {},
     "output_type": "execute_result"
    }
   ],
   "source": [
    "#Using list comprehension\n",
    "ls = [sum(len(value) for key,value in d.items() if isinstance(value,(list)))]\n",
    "ls"
   ]
  },
  {
   "cell_type": "code",
   "execution_count": 47,
   "metadata": {},
   "outputs": [
    {
     "data": {
      "text/plain": [
       "14"
      ]
     },
     "execution_count": 47,
     "metadata": {},
     "output_type": "execute_result"
    }
   ],
   "source": [
    "# Using enumerate\n",
    "count = 0\n",
    "d = {'A' : [1, 2, 3, 4, 5, 6, 7, 8, 9],\n",
    "        'B' : 34,\n",
    "        'C' : 12,\n",
    "        'D' : [7, 8, 9, 6, 4] }\n",
    "for x in enumerate(d.items()):\n",
    "    if isinstance(x[1][1], list):\n",
    "        count += len(x[1][1])\n",
    "count"
   ]
  },
  {
   "cell_type": "code",
   "execution_count": null,
   "metadata": {},
   "outputs": [],
   "source": []
  }
 ],
 "metadata": {
  "kernelspec": {
   "display_name": "Python 3",
   "language": "python",
   "name": "python3"
  },
  "language_info": {
   "codemirror_mode": {
    "name": "ipython",
    "version": 3
   },
   "file_extension": ".py",
   "mimetype": "text/x-python",
   "name": "python",
   "nbconvert_exporter": "python",
   "pygments_lexer": "ipython3",
   "version": "3.8.3"
  }
 },
 "nbformat": 4,
 "nbformat_minor": 4
}
